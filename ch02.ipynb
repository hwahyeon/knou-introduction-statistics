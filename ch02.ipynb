{
 "cells": [
  {
   "cell_type": "code",
   "execution_count": null,
   "metadata": {},
   "outputs": [],
   "source": [
    "### Chapter 2.5\n",
    "\n",
    "a<-1\n",
    "b<-2\n",
    "c<-a+b\n",
    "c\n",
    "\n",
    "height <- c(165, 151, 162, 160, 151, 152, 159, 163, 143, 161)"
   ]
  },
  {
   "cell_type": "code",
   "execution_count": null,
   "metadata": {},
   "outputs": [],
   "source": [
    "d<-1:3\n",
    "d\n",
    "e<-seq(1, 9, 2)\n",
    "e\n",
    "f<-rep(10, 5)\n",
    "f\n",
    "g<-c(d, f)\n",
    "g\n",
    "h<-c(4:1, seq(0, 9, 3))\n",
    "h"
   ]
  },
  {
   "cell_type": "code",
   "execution_count": null,
   "metadata": {},
   "outputs": [],
   "source": [
    "e+f\n",
    "e-f\n",
    "e*f\n",
    "e/f\n",
    "d+f"
   ]
  },
  {
   "cell_type": "code",
   "execution_count": null,
   "metadata": {},
   "outputs": [],
   "source": [
    "i<-1:4\n",
    "j<-as.factor(1:4)\n",
    "j\n",
    "i+1\n",
    "j+1\n",
    "k<-as.character(1:4)\n",
    "k\n",
    "l<-c(\"K\", \"N\", \"O\", \"U\")\n",
    "l\n",
    "m<-i>2\n",
    "m"
   ]
  },
  {
   "cell_type": "code",
   "execution_count": null,
   "metadata": {},
   "outputs": [],
   "source": [
    "n<-rep(10, 5)\n",
    "o<-1:5\n",
    "p<-cbind(n, o)\n",
    "p\n",
    "q<-rbind(n, o)\n",
    "q\n",
    "r<-matrix(1:4, 2, 2)\n",
    "r\n",
    "s<-matrix(c(1, 4, 2, 7), 2, 2)\n",
    "s\n",
    "r+s\n",
    "r %*% s\n",
    "solve(s)\n",
    "s[1,2]\n",
    "s[1,]\n",
    "s[,2]"
   ]
  },
  {
   "cell_type": "code",
   "execution_count": null,
   "metadata": {},
   "outputs": [],
   "source": [
    "name<-c(\"Kim\", \"Lee\", \"Park\", \"Choi\")\n",
    "age<-c(20, 32, 17, 51)\n",
    "sex<-as.factor(c(\"Male\", \"Female\", \"Female\", \"Female\"))\n",
    "dat<-data.frame(name, age, sex)\n",
    "dat$age\n",
    "dat$name\n",
    "dat$sex"
   ]
  },
  {
   "cell_type": "code",
   "execution_count": null,
   "metadata": {},
   "outputs": [],
   "source": [
    "### Chapter 2.6\n",
    "# 패키지 로드\n",
    "library(ggplot2)\n",
    "library(forcats)\n",
    "# 데이터 입력\n",
    "transp<-c(\"bicyle\", \"bus\", \"bus\", \"walking\", \"bus\", \"bicyle\", \"bicyle\", \n",
    "          \"bus\", \"bus\", \"bus\", \"bicyle\", \"bus\", \"bicyle\", \"bicyle\", \"walking\", \n",
    "          \"bus\", \"bus\", \"bicyle\", \"bicyle\", \"walking\", \"walking\", \n",
    "          \"bicyle\", \"bus\", \"bus\", \"bus\", \"bus\", \"bicyle\", \n",
    "          \"bus\", \"bus\", \"bicyle\", \"bicyle\", \"bicyle\")\n",
    "dat1<-data.frame(transp)"
   ]
  },
  {
   "cell_type": "code",
   "execution_count": null,
   "metadata": {},
   "outputs": [],
   "source": [
    "# 막대그래프 작성\n",
    "ggplot(data=dat1) + geom_bar(mapping=aes(x=fct_infreq(transp))) + xlab(\"Transportation\")\n",
    "\n",
    "# 데이터 입력\n",
    "obesity<-factor(c(\"underweight\", \"normal\", \"overweight\", \"obese\"), \n",
    "                levels=c(\"underweight\", \"normal\", \"overweight\", \"obese\"))\n",
    "count<-c(6, 69, 27, 13)\n",
    "perc<-count/sum(count)*100\n",
    "dat2<-data.frame(obesity, count, perc)\n",
    "# 막대그래프 작성\n",
    "ggplot(data=dat2) + geom_bar(mapping=aes(x=obesity, y=perc), stat=\"identity\") + xlab(\"Obesity\") + ylab(\"Percentage (%)\")"
   ]
  },
  {
   "cell_type": "code",
   "execution_count": null,
   "metadata": {},
   "outputs": [],
   "source": [
    "# 도수분포표 형태로 데이터 정리\n",
    "table(transp)\n",
    "dat3<-data.frame(transportation=c(\"bus\", \"bicyle\", \"walking\"), count=c(15, 13, 4))\n",
    "# 원그래프 작성\n",
    "ggplot(data=dat3) + geom_bar(mapping=aes(x=\"\", y=count, fill=transportation), stat=\"identity\") + \n",
    "  coord_polar(\"y\", start=0) + xlab(\"\") + ylab(\"\")\n",
    "\n",
    "# 데이터 입력\n",
    "score<-c(93, 83, 91, 68, 75, 87, 89, 96, 97, 67, 83, 81, 87, 80, 64, \n",
    "         83, 88, 76, 91, 78, 72, 80, 69, 80, 84, 71, 91, 81, 88, 73)\n",
    "# 히스토그램 작성\n",
    "hist(score, main=\"\")"
   ]
  },
  {
   "cell_type": "code",
   "execution_count": null,
   "metadata": {},
   "outputs": [],
   "source": [
    "# 데이터 입력\n",
    "rv<-c(0.8, 0.8, 0.8,  0.9, 0.9, 0.9, 0.9, 0.9, 1, 1, 1.8, 2, 2.1, 2.3, 2.4, 2.8,\n",
    "      2.9, 3, 3.2, 3.3, 3.5, 3.8, 3.8, 3.9, 4, 4.2, 4.4, 4.5, 5.1, 5.3, 5.3, 5.4,\n",
    "      14, 17, 18, 19, 21, 21, 23, 25, 27, 28, 32, 34, 36, 41, 42, 44, 48, 49,\n",
    "      51, 54, 59, 60, 61, 62, 80, 240)\n",
    "# 히스토그램 작성\n",
    "hist(rv, main=\"\", xlab=\"CRP\", breaks=20)\n"
   ]
  },
  {
   "cell_type": "code",
   "execution_count": null,
   "metadata": {},
   "outputs": [],
   "source": [
    "# 난수 생성\n",
    "set.seed(2021)\n",
    "rn<-c(rnorm(100, 5, 2), rnorm(100, 10, 2))\n",
    "# 히스토그램 작성\n",
    "hist(rn)\n",
    "hist(rn, breaks=20, main=\"\", xlab=\"value\")\n",
    "hist(rn, breaks=5, main=\"\", xlab=\"value\")"
   ]
  },
  {
   "cell_type": "code",
   "execution_count": null,
   "metadata": {},
   "outputs": [],
   "source": [
    "# 데이터 입력\n",
    "age<-c(57, 61, 47, 57, 48, 58, 57, 61, 54, 50, 68, 51)\n",
    "# 평균 계산\n",
    "m.age<-mean(age)\n",
    "# 점도표 작성\n",
    "par(xpd=TRUE )\n",
    "stripchart(age, axes=F, pch=19, xlim=c(45, 70), method=\"stack\", offset=5, cex=1.5)\n",
    "axis(1, at=seq(45, 70, 5))\n",
    "points(m.age, -5, pch=17, cex=2, col=\"red\")"
   ]
  },
  {
   "cell_type": "code",
   "execution_count": null,
   "metadata": {},
   "outputs": [],
   "source": [
    "# 데이터 입력\n",
    "books<-c(6, 0, 1, 3, 1, 5, 2, 3, 1, 3, 67)\n",
    "m.books<-mean(books)\n",
    "\n",
    "# 점도표 작성\n",
    "par(xpd=TRUE )\n",
    "stripchart(books, axes=F, pch=1, xlim=c(0, 70), method=\"stack\", offset=5, cex=1.5)\n",
    "axis(1, at=seq(0, 70, 10))\n",
    "points(m.books, -5, pch=17, cex=2, col=\"red\")"
   ]
  },
  {
   "cell_type": "code",
   "execution_count": null,
   "metadata": {},
   "outputs": [],
   "source": [
    "# 데이터 입력\n",
    "age<-c(57, 61, 47, 57, 48, 58, 57, 61, 54, 50, 68, 51)\n",
    "# 다섯 수치요약\n",
    "fivenum(age)\n",
    "# 상자그림 작성\n",
    "boxplot(age, ylab=\"Age\")"
   ]
  },
  {
   "cell_type": "code",
   "execution_count": null,
   "metadata": {},
   "outputs": [],
   "source": [
    "# 데이터 입력\n",
    "member <- c(92, 107, 180, 90, 78, 91, 102, 88, 106, 125, 95, 102, 162)\n",
    "# 상자그림 작성\n",
    "boxplot(member, ylab=\"Number of board members\")"
   ]
  }
 ],
 "metadata": {
  "language_info": {
   "name": "python"
  },
  "orig_nbformat": 4
 },
 "nbformat": 4,
 "nbformat_minor": 2
}
